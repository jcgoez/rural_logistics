{
 "cells": [
  {
   "cell_type": "markdown",
   "metadata": {},
   "source": [
    "This notebook provides simple examples of how to use geopandas to visualize\n",
    "data. The main purpose is to use it and motivate a discussion around the concept\n",
    "of rural areas and the implications for logistics "
   ]
  },
  {
   "cell_type": "code",
   "execution_count": null,
   "metadata": {},
   "outputs": [],
   "source": [
    "# We firs import the modules that we will use\n",
    "import pandas as pd\n",
    "import geopandas as gpd\n",
    "import matplotlib.pyplot as plt\n",
    "import folium\n",
    "\n",
    "department = '05' # This is the code for Antioquia but you can change it"
   ]
  },
  {
   "cell_type": "markdown",
   "metadata": {},
   "source": [
    "<h1>Population by cities and towns<h1>\n",
    "\n",
    "Our first task is to create an interactive map of Colombia with the population\n",
    "by cities.\n",
    "The main question: Is Colombia mainly rural or urban?\n",
    "The data used for this analysis was taken from the DANE's webpage"
   ]
  },
  {
   "cell_type": "code",
   "execution_count": null,
   "metadata": {},
   "outputs": [],
   "source": [
    "# Loading the data\n",
    "# Set pyogrio as the engine to improve the speed for loading the data\n",
    "col_cities = gpd.read_file(\"SHP_MGN2018_INTGRD_MPIO.zip\", engine=\"pyogrio\")\n",
    "col_cities['DENSITY'] = col_cities['STP27_PERS']/(col_cities['AREA'] / 1000000)\n",
    "\n",
    "# Select some of the fields to make the interactive map easier to read\n",
    "col = col_cities[['MPIO_CNMBR', 'VERSION','AREA','STP27_PERS', 'DENSITY', 'geometry']]\n",
    "\n",
    "# Create interactive map\n",
    "col.explore(column='STP27_PERS',cmap='YlOrRd',scheme='naturalbreaks',k=5)\n"
   ]
  },
  {
   "cell_type": "markdown",
   "metadata": {},
   "source": [
    "<h1>Comparing by population<h1>\n",
    "To improve the visual appreciation of the data we move from the interactive \n",
    "map to a simpler one but using colors to represent the population."
   ]
  },
  {
   "cell_type": "code",
   "execution_count": null,
   "metadata": {},
   "outputs": [],
   "source": [
    "fig, ax = plt.subplots(1,1)\n",
    "ax.set_axis_off()\n",
    "\n",
    "col.plot(column='STP27_PERS',\n",
    "         cmap='YlOrRd', \n",
    "         ax=ax, \n",
    "         scheme='quantiles',\n",
    "         k=10,\n",
    "         legend=True,\n",
    "         legend_kwds={'loc':'upper right', \n",
    "                      'bbox_to_anchor':(1.8, 1.01), \n",
    "                      'fmt':'{:.3f}',\n",
    "                      'markerscale':1, \n",
    "                      'title_fontsize':'small', \n",
    "                      'fontsize':'small'},)\n",
    "\n",
    "#col.plot(column=\"DENSITY\", scheme='quantiles', k=20, cmap='YlOrRd')\n"
   ]
  },
  {
   "cell_type": "markdown",
   "metadata": {},
   "source": [
    "<h1>Add density and compare<h1>\n",
    "Looking at the data using the population may be missleading when it comes to appreciate the real situation of a municipality. To improve that we will make the same plot but using density."
   ]
  },
  {
   "cell_type": "code",
   "execution_count": null,
   "metadata": {},
   "outputs": [],
   "source": [
    "fig, ax = plt.subplots(1,1)\n",
    "ax.set_axis_off()\n",
    "\n",
    "col.plot(column='DENSITY',\n",
    "         cmap='YlOrRd', \n",
    "         ax=ax, \n",
    "         scheme='quantiles',\n",
    "         k=10,\n",
    "         legend=True,\n",
    "         legend_kwds={'loc':'upper right', \n",
    "                      'bbox_to_anchor':(1.8, 1.01), \n",
    "                      'fmt':'{:.3f}',\n",
    "                      'markerscale':1, \n",
    "                      'title_fontsize':'small', \n",
    "                      'fontsize':'small'},)\n",
    "\n",
    "#col.plot(column=\"DENSITY\", scheme='quantiles', k=20, cmap='YlOrRd')\n"
   ]
  },
  {
   "cell_type": "code",
   "execution_count": null,
   "metadata": {},
   "outputs": [],
   "source": [
    "col.explore(column='DENSITY', cmap='YlOrRd',scheme='quantiles',k=10)"
   ]
  },
  {
   "cell_type": "markdown",
   "metadata": {},
   "source": [
    "<h1>Adding more detailed data<h1>\n",
    "\n",
    "Let us add information per squares. Thanks to the resources available in DANE's\n",
    "webpage we have information down to the square of the cities. This may helps us\n",
    "to have a better view of the continuum urban-rural."
   ]
  },
  {
   "cell_type": "code",
   "execution_count": null,
   "metadata": {},
   "outputs": [],
   "source": [
    "col_manz = gpd.read_file(\"SHP_MGN2018_INTGRD_MANZ.zip\", engine=\"pyogrio\")"
   ]
  },
  {
   "cell_type": "markdown",
   "metadata": {},
   "source": [
    "Now we look at Antioquia"
   ]
  },
  {
   "cell_type": "code",
   "execution_count": null,
   "metadata": {},
   "outputs": [],
   "source": [
    "antioquia = col_manz[(col_manz['DPTO_CCDGO'] == department)]\n",
    "antioquia = antioquia[['TP27_PERSO', 'geometry']]\n",
    "\n",
    "fig, ax = plt.subplots(1,1)\n",
    "ax.set_axis_off()\n",
    "\n",
    "antioquia.plot(column='TP27_PERSO',\n",
    "         cmap='YlOrRd', \n",
    "         ax=ax, \n",
    "         scheme='quantiles',\n",
    "         k=5,\n",
    "         legend=True,\n",
    "         legend_kwds={'loc':'upper right', \n",
    "                      'bbox_to_anchor':(1.8, 1.01), \n",
    "                      'fmt':'{:.3f}',\n",
    "                      'markerscale':1, \n",
    "                      'title_fontsize':'small', \n",
    "                      'fontsize':'small'})\n"
   ]
  },
  {
   "cell_type": "code",
   "execution_count": null,
   "metadata": {},
   "outputs": [],
   "source": [
    "antioquia.explore(column='TP27_PERSO', cmap='YlOrRd', scheme='quantiles',\n",
    "         k=5)"
   ]
  },
  {
   "cell_type": "markdown",
   "metadata": {},
   "source": [
    "We may now explore some cities of Medellín's metropolitan area "
   ]
  },
  {
   "cell_type": "code",
   "execution_count": null,
   "metadata": {},
   "outputs": [],
   "source": [
    "city1 = \"001\"\n",
    "city2 = \"088\"\n",
    "city3 = \"360\"\n",
    "city4 = \"266\"\n",
    "city5 = \"380\"\n",
    "city6 = \"212\"\n",
    "city7 = \"308\"\n",
    "\n",
    "metro_medellin = col_manz[(col_manz['DPTO_CCDGO'] == department) & \n",
    "                          ((col_manz['MPIO_CCDGO'] == city1) | \n",
    "                           (col_manz['MPIO_CCDGO'] == city2) |\n",
    "                           (col_manz['MPIO_CCDGO'] == city3) |\n",
    "                           (col_manz['MPIO_CCDGO'] == city4) |\n",
    "                           (col_manz['MPIO_CCDGO'] == city5) |\n",
    "                           (col_manz['MPIO_CCDGO'] == city6) |\n",
    "                           (col_manz['MPIO_CCDGO'] == city7))]\n",
    "\n",
    "metro_medellin = metro_medellin[['TP27_PERSO', 'geometry']]\n",
    "\n",
    "fig, ax = plt.subplots(1,1)\n",
    "ax.set_axis_off()\n",
    "\n",
    "metro_medellin.plot(column='TP27_PERSO',\n",
    "         cmap='YlOrRd', \n",
    "         ax=ax, \n",
    "         scheme='quantiles',\n",
    "         k=5,\n",
    "         legend=True,\n",
    "         legend_kwds={'loc':'upper right', \n",
    "                      'bbox_to_anchor':(1.8, 1.01), \n",
    "                      'fmt':'{:.3f}',\n",
    "                      'markerscale':1, \n",
    "                      'title_fontsize':'small', \n",
    "                      'fontsize':'small'})\n"
   ]
  },
  {
   "cell_type": "code",
   "execution_count": null,
   "metadata": {},
   "outputs": [],
   "source": [
    "metro_medellin.explore(column='TP27_PERSO', cmap='YlOrRd', scheme='quantiles',\n",
    "         k=5)"
   ]
  },
  {
   "cell_type": "markdown",
   "metadata": {},
   "source": [
    "We can now check how DANE classifies urban areas"
   ]
  },
  {
   "cell_type": "code",
   "execution_count": null,
   "metadata": {},
   "outputs": [],
   "source": [
    "col_urban = gpd.read_file(\"SHP_MGN2018_INTGRD_SECCU.zip\", engine=\"pyogrio\")"
   ]
  },
  {
   "cell_type": "code",
   "execution_count": null,
   "metadata": {},
   "outputs": [],
   "source": [
    "# We choose Antioquia to make it faster\n",
    "col_urban_population = col_urban[['DPTO_CCDGO', 'STP27_PERS', 'AREA', 'geometry']]\n",
    "col_urban_population[(col_urban['DPTO_CCDGO'] == department)].explore(column='STP27_PERS',cmap='cool', k=4, name='Rural', legend=True, scheme=\"naturalbreaks\")"
   ]
  },
  {
   "cell_type": "code",
   "execution_count": null,
   "metadata": {},
   "outputs": [],
   "source": [
    "# We print a coloured map of Antioquia\n",
    "fig, ax = plt.subplots(1,1)\n",
    "ax.set_axis_off()\n",
    "\n",
    "col_urban[(col_urban['DPTO_CCDGO'] == department)].plot(                               column='STP27_PERS',           \n",
    "                                cmap='YlOrRd',\n",
    "                                ax=ax,\n",
    "                                scheme='quantiles',\n",
    "                                k=20,\n",
    "                                legend=True,\n",
    "                                legend_kwds={'loc':'upper right', \n",
    "                                            'bbox_to_anchor':(1.8, 1.01), \n",
    "                                            'fmt':'{:.3f}',\n",
    "                                            'markerscale':1, \n",
    "                                            'title_fontsize':'small', \n",
    "                                            'fontsize':'small'})\n"
   ]
  },
  {
   "cell_type": "code",
   "execution_count": null,
   "metadata": {},
   "outputs": [],
   "source": [
    "col_cities[(col_cities['DPTO_CCDGO'] == department)].explore()"
   ]
  },
  {
   "cell_type": "markdown",
   "metadata": {},
   "source": [
    "We can now check how DANE classifies rural areas"
   ]
  },
  {
   "cell_type": "code",
   "execution_count": null,
   "metadata": {},
   "outputs": [],
   "source": [
    "#Load the data for the rural areas define by DANE\n",
    "col_rural = gpd.read_file(\"SHP_MGN2018_INTGRD_SECCR.zip\", engine=\"pyogrio\")\n",
    "\n",
    "#Load the roads data provided by DANE\n",
    "roads_col = gpd.read_file(\"SHP_MGN2021_COLOMBIA.zip!MGN_2021_COLOMBIA/VIAS\", engine=\"pyogrio\")"
   ]
  },
  {
   "cell_type": "code",
   "execution_count": null,
   "metadata": {},
   "outputs": [],
   "source": [
    "# We choose Antioquia to make it faster\n",
    "col_rural_population = col_rural[['DPTO_CCDGO', 'STP27_PERS', 'geometry']]\n",
    "\n",
    "# Create the interactive map for the rural areas\n",
    "rural =col_rural_population[(col_rural['DPTO_CCDGO'] == department)].explore(column='STP27_PERS', cmap='cool', k=4, name='Rural', legend=True, scheme=\"naturalbreaks\")\n",
    "\n",
    "# Create the interactive map for the road in Antioquia\n",
    "roads_col_lmt = roads_col[[\"DPTO_CCDGO\", \"FID_roads\", \"type\", \"geometry\"]]\n",
    "roads_col_lmt[(roads_col_lmt['DPTO_CCDGO'] == department)].explore(m=rural, name='Roads')\n",
    "\n",
    "# Put the two maps together and display\n",
    "folium.TileLayer(\"OpenStreetMap\", show=False).add_to(rural)\n",
    "folium.LayerControl().add_to(rural)\n",
    "rural"
   ]
  },
  {
   "cell_type": "code",
   "execution_count": null,
   "metadata": {},
   "outputs": [],
   "source": [
    "# We print a coloured map of Antioquia\n",
    "fig, ax = plt.subplots(1,1)\n",
    "ax.set_axis_off()\n",
    "\n",
    "col_rural[(col_rural['DPTO_CCDGO'] == department)].plot(                               column='STP27_PERS',           \n",
    "                                cmap='YlOrRd',\n",
    "                                ax=ax,\n",
    "                                scheme='quantiles',\n",
    "                                k=20,\n",
    "                                legend=True,\n",
    "                                legend_kwds={'loc':'upper right', \n",
    "                                            'bbox_to_anchor':(1.8, 1.01), \n",
    "                                            'fmt':'{:.3f}',\n",
    "                                            'markerscale':1, \n",
    "                                            'title_fontsize':'small', \n",
    "                                            'fontsize':'small'})\n"
   ]
  }
 ],
 "metadata": {
  "kernelspec": {
   "display_name": ".venv",
   "language": "python",
   "name": "python3"
  },
  "language_info": {
   "codemirror_mode": {
    "name": "ipython",
    "version": 3
   },
   "file_extension": ".py",
   "mimetype": "text/x-python",
   "name": "python",
   "nbconvert_exporter": "python",
   "pygments_lexer": "ipython3",
   "version": "3.11.9"
  }
 },
 "nbformat": 4,
 "nbformat_minor": 2
}
